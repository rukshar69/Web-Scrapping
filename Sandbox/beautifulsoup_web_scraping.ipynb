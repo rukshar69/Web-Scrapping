{
  "nbformat": 4,
  "nbformat_minor": 0,
  "metadata": {
    "colab": {
      "provenance": []
    },
    "kernelspec": {
      "name": "python3",
      "display_name": "Python 3"
    },
    "language_info": {
      "name": "python"
    }
  },
  "cells": [
    {
      "cell_type": "markdown",
      "source": [
        "crawling for next page: https://stackoverflow.com/questions/46879210/web-scraping-next-page"
      ],
      "metadata": {
        "id": "qH71XS-3XQdE"
      }
    },
    {
      "cell_type": "code",
      "execution_count": 1,
      "metadata": {
        "colab": {
          "base_uri": "https://localhost:8080/"
        },
        "id": "PvwDiPOnVR2_",
        "outputId": "60686fa8-d631-40af-df18-05b2be869269"
      },
      "outputs": [
        {
          "output_type": "stream",
          "name": "stdout",
          "text": [
            "Looking in indexes: https://pypi.org/simple, https://us-python.pkg.dev/colab-wheels/public/simple/\n",
            "Requirement already satisfied: beautifulsoup4 in /usr/local/lib/python3.8/dist-packages (4.6.3)\n",
            "Looking in indexes: https://pypi.org/simple, https://us-python.pkg.dev/colab-wheels/public/simple/\n",
            "Requirement already satisfied: lxml in /usr/local/lib/python3.8/dist-packages (4.9.2)\n"
          ]
        }
      ],
      "source": [
        "!pip install beautifulsoup4\n",
        "!pip install lxml"
      ]
    },
    {
      "cell_type": "code",
      "source": [
        "from google.colab import drive\n",
        "drive.mount('/content/drive')\n",
        "\n",
        "#Optional: move to the desired location:\n",
        "#%cd drive/My Drive/DIRECTORY_IN_YOUR_DRIVE"
      ],
      "metadata": {
        "colab": {
          "base_uri": "https://localhost:8080/"
        },
        "id": "BgSmd6PbXZQh",
        "outputId": "6c5c0766-e56b-4145-e622-75504d57d89b"
      },
      "execution_count": 2,
      "outputs": [
        {
          "output_type": "stream",
          "name": "stdout",
          "text": [
            "Mounted at /content/drive\n"
          ]
        }
      ]
    },
    {
      "cell_type": "markdown",
      "source": [
        "# BeautifulSoup Data Extraction"
      ],
      "metadata": {
        "id": "mDpvHQamxxHI"
      }
    },
    {
      "cell_type": "code",
      "source": [
        "from bs4 import BeautifulSoup\n",
        "import requests\n",
        "import pandas as pd"
      ],
      "metadata": {
        "id": "sxDtRKlgkGSa"
      },
      "execution_count": 3,
      "outputs": []
    },
    {
      "cell_type": "code",
      "source": [
        "#extract job data from a soup object and save them in an array\n",
        "def extract_job_data(soup):\n",
        "  #Get all jobs\n",
        "  jobs = soup.find_all('li', class_ = 'clearfix job-bx wht-shd-bx')\n",
        "  jobs_data = [] #save data for each job in the format [company_name, published_date, skills, location, job_link]\n",
        "  #Get single first instance \n",
        "  #job = soup.find('li', class_ = 'clearfix job-bx wht-shd-bx')\n",
        "  #get company name\n",
        "  for job in jobs:\n",
        "    company_name = job.find('h3', class_= 'joblist-comp-name').text.strip()\n",
        "    skills = job.find('span', class_ = 'srp-skills').text.strip().replace(' ','')\n",
        "    published_date = job.find('span', class_ = 'sim-posted').text.strip()\n",
        "    try:\n",
        "      location = job.find_all('li')[1].span.text\n",
        "    except:\n",
        "      location = 'Not Given'\n",
        "    \n",
        "    job_link = job.header.h2.a['href']\n",
        "    row_data = [company_name,  published_date,skills, location, job_link]\n",
        "    jobs_data.append(row_data)\n",
        "    return jobs_data\n"
      ],
      "metadata": {
        "id": "A0YO4TbTvtny"
      },
      "execution_count": 11,
      "outputs": []
    },
    {
      "cell_type": "code",
      "source": [
        "html_text = requests.get('https://www.timesjobs.com/candidate/job-search.html?searchType=personalizedSearch&from=submit&txtKeywords=Python&txtLocation=').text"
      ],
      "metadata": {
        "id": "xS_KMX1pMObF"
      },
      "execution_count": 4,
      "outputs": []
    },
    {
      "cell_type": "code",
      "source": [
        "soup = BeautifulSoup(html_text, 'lxml')"
      ],
      "metadata": {
        "id": "x9Y-s5JLMbsT"
      },
      "execution_count": 5,
      "outputs": []
    },
    {
      "cell_type": "code",
      "source": [
        "#Get all jobs\n",
        "jobs_data = extract_job_data(soup)\n",
        "#Create pandas dataframe using the data of the jobs \n",
        "column_names = ['CompanyName', 'Date', 'Skills', 'Location', 'JobLink'] #create a dataframe to save the extracted job data\n",
        "job_df = pd.DataFrame(jobs_data, columns = column_names)"
      ],
      "metadata": {
        "id": "8cRj-BK1NGeW"
      },
      "execution_count": 15,
      "outputs": []
    },
    {
      "cell_type": "code",
      "source": [
        "job_df.to_csv('drive/My Drive/SelfProjects/WebScraping/india_python_job_data.csv', index =False)"
      ],
      "metadata": {
        "id": "HiBCbvn5NoWN"
      },
      "execution_count": 8,
      "outputs": []
    },
    {
      "cell_type": "code",
      "source": [
        "job_df.shape"
      ],
      "metadata": {
        "colab": {
          "base_uri": "https://localhost:8080/"
        },
        "id": "CQn8hexOuz0W",
        "outputId": "c2832c40-37d3-4689-f06d-db57d417d042"
      },
      "execution_count": 9,
      "outputs": [
        {
          "output_type": "execute_result",
          "data": {
            "text/plain": [
              "(25, 5)"
            ]
          },
          "metadata": {},
          "execution_count": 9
        }
      ]
    },
    {
      "cell_type": "code",
      "source": [
        "job_df.head()"
      ],
      "metadata": {
        "colab": {
          "base_uri": "https://localhost:8080/",
          "height": 337
        },
        "id": "05yO6QUmu1ZY",
        "outputId": "bcee516b-b59c-45ad-bcd8-68c2ab4cbaf1"
      },
      "execution_count": 10,
      "outputs": [
        {
          "output_type": "execute_result",
          "data": {
            "text/plain": [
              "                                         CompanyName  \\\n",
              "0              Surya Informatics Solutions Pvt. Ltd.   \n",
              "1  MACKENZIE MODERN IT SOLUTIONS PVT LTD\\r\\n     ...   \n",
              "2            RESEARCH DEVELOPERS\\r\\n     (More Jobs)   \n",
              "3                                   Perfios Software   \n",
              "4                                           MUSIKAAR   \n",
              "\n",
              "                                                Date  \\\n",
              "0                                Posted few days ago   \n",
              "1                                 Posted a month ago   \n",
              "2  Work from Home \\r\\n\\t\\t    \\t\\nPosted a month ago   \n",
              "3                                Posted few days ago   \n",
              "4                                  Posted 3 days ago   \n",
              "\n",
              "                                              Skills               Location  \\\n",
              "0  python,webtechnologies,linux,mobile,mysql,angu...                Chennai   \n",
              "1  DataScience,Matplotlib,Git,Panda,Aws,Numpy,Pyt...              Not Given   \n",
              "2  python,research,pythonprogrammer,MachineLearni...              Not Given   \n",
              "3                                  python,java,scala  Bengaluru / Bangalore   \n",
              "4                 python,problemsolving,django,mysql              Ahmedabad   \n",
              "\n",
              "                                             JobLink  \n",
              "0  https://www.timesjobs.com/job-detail/python-su...  \n",
              "1  https://www.timesjobs.com/job-detail/python-de...  \n",
              "2  https://www.timesjobs.com/job-detail/python-de...  \n",
              "3  https://www.timesjobs.com/job-detail/python-de...  \n",
              "4  https://www.timesjobs.com/job-detail/python-de...  "
            ],
            "text/html": [
              "\n",
              "  <div id=\"df-cf255dc8-71d4-4599-bcbd-f91b02013ceb\">\n",
              "    <div class=\"colab-df-container\">\n",
              "      <div>\n",
              "<style scoped>\n",
              "    .dataframe tbody tr th:only-of-type {\n",
              "        vertical-align: middle;\n",
              "    }\n",
              "\n",
              "    .dataframe tbody tr th {\n",
              "        vertical-align: top;\n",
              "    }\n",
              "\n",
              "    .dataframe thead th {\n",
              "        text-align: right;\n",
              "    }\n",
              "</style>\n",
              "<table border=\"1\" class=\"dataframe\">\n",
              "  <thead>\n",
              "    <tr style=\"text-align: right;\">\n",
              "      <th></th>\n",
              "      <th>CompanyName</th>\n",
              "      <th>Date</th>\n",
              "      <th>Skills</th>\n",
              "      <th>Location</th>\n",
              "      <th>JobLink</th>\n",
              "    </tr>\n",
              "  </thead>\n",
              "  <tbody>\n",
              "    <tr>\n",
              "      <th>0</th>\n",
              "      <td>Surya Informatics Solutions Pvt. Ltd.</td>\n",
              "      <td>Posted few days ago</td>\n",
              "      <td>python,webtechnologies,linux,mobile,mysql,angu...</td>\n",
              "      <td>Chennai</td>\n",
              "      <td>https://www.timesjobs.com/job-detail/python-su...</td>\n",
              "    </tr>\n",
              "    <tr>\n",
              "      <th>1</th>\n",
              "      <td>MACKENZIE MODERN IT SOLUTIONS PVT LTD\\r\\n     ...</td>\n",
              "      <td>Posted a month ago</td>\n",
              "      <td>DataScience,Matplotlib,Git,Panda,Aws,Numpy,Pyt...</td>\n",
              "      <td>Not Given</td>\n",
              "      <td>https://www.timesjobs.com/job-detail/python-de...</td>\n",
              "    </tr>\n",
              "    <tr>\n",
              "      <th>2</th>\n",
              "      <td>RESEARCH DEVELOPERS\\r\\n     (More Jobs)</td>\n",
              "      <td>Work from Home \\r\\n\\t\\t    \\t\\nPosted a month ago</td>\n",
              "      <td>python,research,pythonprogrammer,MachineLearni...</td>\n",
              "      <td>Not Given</td>\n",
              "      <td>https://www.timesjobs.com/job-detail/python-de...</td>\n",
              "    </tr>\n",
              "    <tr>\n",
              "      <th>3</th>\n",
              "      <td>Perfios Software</td>\n",
              "      <td>Posted few days ago</td>\n",
              "      <td>python,java,scala</td>\n",
              "      <td>Bengaluru / Bangalore</td>\n",
              "      <td>https://www.timesjobs.com/job-detail/python-de...</td>\n",
              "    </tr>\n",
              "    <tr>\n",
              "      <th>4</th>\n",
              "      <td>MUSIKAAR</td>\n",
              "      <td>Posted 3 days ago</td>\n",
              "      <td>python,problemsolving,django,mysql</td>\n",
              "      <td>Ahmedabad</td>\n",
              "      <td>https://www.timesjobs.com/job-detail/python-de...</td>\n",
              "    </tr>\n",
              "  </tbody>\n",
              "</table>\n",
              "</div>\n",
              "      <button class=\"colab-df-convert\" onclick=\"convertToInteractive('df-cf255dc8-71d4-4599-bcbd-f91b02013ceb')\"\n",
              "              title=\"Convert this dataframe to an interactive table.\"\n",
              "              style=\"display:none;\">\n",
              "        \n",
              "  <svg xmlns=\"http://www.w3.org/2000/svg\" height=\"24px\"viewBox=\"0 0 24 24\"\n",
              "       width=\"24px\">\n",
              "    <path d=\"M0 0h24v24H0V0z\" fill=\"none\"/>\n",
              "    <path d=\"M18.56 5.44l.94 2.06.94-2.06 2.06-.94-2.06-.94-.94-2.06-.94 2.06-2.06.94zm-11 1L8.5 8.5l.94-2.06 2.06-.94-2.06-.94L8.5 2.5l-.94 2.06-2.06.94zm10 10l.94 2.06.94-2.06 2.06-.94-2.06-.94-.94-2.06-.94 2.06-2.06.94z\"/><path d=\"M17.41 7.96l-1.37-1.37c-.4-.4-.92-.59-1.43-.59-.52 0-1.04.2-1.43.59L10.3 9.45l-7.72 7.72c-.78.78-.78 2.05 0 2.83L4 21.41c.39.39.9.59 1.41.59.51 0 1.02-.2 1.41-.59l7.78-7.78 2.81-2.81c.8-.78.8-2.07 0-2.86zM5.41 20L4 18.59l7.72-7.72 1.47 1.35L5.41 20z\"/>\n",
              "  </svg>\n",
              "      </button>\n",
              "      \n",
              "  <style>\n",
              "    .colab-df-container {\n",
              "      display:flex;\n",
              "      flex-wrap:wrap;\n",
              "      gap: 12px;\n",
              "    }\n",
              "\n",
              "    .colab-df-convert {\n",
              "      background-color: #E8F0FE;\n",
              "      border: none;\n",
              "      border-radius: 50%;\n",
              "      cursor: pointer;\n",
              "      display: none;\n",
              "      fill: #1967D2;\n",
              "      height: 32px;\n",
              "      padding: 0 0 0 0;\n",
              "      width: 32px;\n",
              "    }\n",
              "\n",
              "    .colab-df-convert:hover {\n",
              "      background-color: #E2EBFA;\n",
              "      box-shadow: 0px 1px 2px rgba(60, 64, 67, 0.3), 0px 1px 3px 1px rgba(60, 64, 67, 0.15);\n",
              "      fill: #174EA6;\n",
              "    }\n",
              "\n",
              "    [theme=dark] .colab-df-convert {\n",
              "      background-color: #3B4455;\n",
              "      fill: #D2E3FC;\n",
              "    }\n",
              "\n",
              "    [theme=dark] .colab-df-convert:hover {\n",
              "      background-color: #434B5C;\n",
              "      box-shadow: 0px 1px 3px 1px rgba(0, 0, 0, 0.15);\n",
              "      filter: drop-shadow(0px 1px 2px rgba(0, 0, 0, 0.3));\n",
              "      fill: #FFFFFF;\n",
              "    }\n",
              "  </style>\n",
              "\n",
              "      <script>\n",
              "        const buttonEl =\n",
              "          document.querySelector('#df-cf255dc8-71d4-4599-bcbd-f91b02013ceb button.colab-df-convert');\n",
              "        buttonEl.style.display =\n",
              "          google.colab.kernel.accessAllowed ? 'block' : 'none';\n",
              "\n",
              "        async function convertToInteractive(key) {\n",
              "          const element = document.querySelector('#df-cf255dc8-71d4-4599-bcbd-f91b02013ceb');\n",
              "          const dataTable =\n",
              "            await google.colab.kernel.invokeFunction('convertToInteractive',\n",
              "                                                     [key], {});\n",
              "          if (!dataTable) return;\n",
              "\n",
              "          const docLinkHtml = 'Like what you see? Visit the ' +\n",
              "            '<a target=\"_blank\" href=https://colab.research.google.com/notebooks/data_table.ipynb>data table notebook</a>'\n",
              "            + ' to learn more about interactive tables.';\n",
              "          element.innerHTML = '';\n",
              "          dataTable['output_type'] = 'display_data';\n",
              "          await google.colab.output.renderOutput(dataTable, element);\n",
              "          const docLink = document.createElement('div');\n",
              "          docLink.innerHTML = docLinkHtml;\n",
              "          element.appendChild(docLink);\n",
              "        }\n",
              "      </script>\n",
              "    </div>\n",
              "  </div>\n",
              "  "
            ]
          },
          "metadata": {},
          "execution_count": 10
        }
      ]
    }
  ]
}